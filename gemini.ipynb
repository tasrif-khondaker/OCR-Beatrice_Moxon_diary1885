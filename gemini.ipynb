{
 "cells": [
  {
   "cell_type": "code",
   "execution_count": 1,
   "id": "d38f8e1a",
   "metadata": {},
   "outputs": [],
   "source": [
    "# pip install google-genai\n",
    "from google import genai\n",
    "from google.genai import types\n",
    "from PIL import Image\n",
    "import json\n",
    "import os\n",
    "\n",
    "apiKey = json.load(open(\"api_key/api.json\", \"r\")).get(\"gemini\")\n",
    "# https://ai.google.dev/gemini-api/docs/api-key#windows\n",
    "client = genai.Client(api_key=apiKey)\n"
   ]
  },
  {
   "cell_type": "code",
   "execution_count": 2,
   "id": "bd856fa1",
   "metadata": {},
   "outputs": [
    {
     "name": "stdout",
     "output_type": "stream",
     "text": [
      "AI learns patterns from data to make decisions or predictions.\n"
     ]
    }
   ],
   "source": [
    "response = client.models.generate_content(\n",
    "    model=\"gemini-2.5-flash\", contents=\"Explain how AI works in a few words\"\n",
    ")\n",
    "print(response.text)"
   ]
  },
  {
   "cell_type": "code",
   "execution_count": 6,
   "id": "c090884c",
   "metadata": {},
   "outputs": [],
   "source": [
    "image = Image.open(\"Data/JPG/Beatrice_Moxon_diary_1885_0010.jpg\").rotate(180)"
   ]
  },
  {
   "cell_type": "code",
   "execution_count": 7,
   "id": "742aa41c",
   "metadata": {},
   "outputs": [],
   "source": [
    "# image.show() "
   ]
  },
  {
   "cell_type": "code",
   "execution_count": 8,
   "id": "7f40cc8b",
   "metadata": {},
   "outputs": [],
   "source": [
    "prompt = json.load(open(\"prompt.json\", \"r\")).get(\"llm-prompt\")"
   ]
  },
  {
   "cell_type": "code",
   "execution_count": 9,
   "id": "2f065482",
   "metadata": {},
   "outputs": [
    {
     "name": "stdout",
     "output_type": "stream",
     "text": [
      "=== TrOCR Result for 11 ===\n",
      "\n",
      "Line 1: 0\n",
      "Line 2: 0 0\n",
      "Line 3: 6th century in the Spanish period of the Spanish\n",
      "Line 4: a similar article . Our Majesty's Institutes ... . It's\n",
      "Line 5: # Mr. \" \" Edwin-in't . What's . Through me can be interviewed with the\n",
      "Line 6: a b c d e f g h i j k l m.\n",
      "Line 7: 2 1 . Meanwhile breaks for up over twenty-ng.off\n",
      "Line 8: 1961 Green- Validon , is taken Felicapier , that or killed\n",
      "Line 9: # chance of his life's best tellout .\n",
      "Line 10: 0 1 . . International All-Universities and the Plainplace\n",
      "Line 11: a b. announcement for the first day of the time since 1990\n",
      "Line 12: a b. Weather Quality \" ultimately may only\n",
      "Line 13: # them but still influenced for myself , change\n",
      "Line 14: # . Hope at with the faculty , \" When falls to make a\n",
      "Line 15: # a contentious . But Shepherd will be anything to meeting from\n",
      "Line 16: 0 1 . \" I.T.I.I shall last Said . \" Rich-Wheelchair\n",
      "Line 17: a b. The introduction that it was first described by Paul S Allen\n",
      "Line 18: 2 . \" Mackle . IN. Only complete because you a man\n",
      "Line 19: \" ... . The Devil ( People # King , Fernandez , pp. \" ,\n",
      "Line 20: \" \" Sundaud . What's the French Philologist\n",
      "Line 21: 2 . Fifty-Pigs : the Government he learned the\n",
      "Line 22: a b. B. B.S. It is still a Spanish\n",
      "Line 23: # it's player . In. Steven Phillips , The year of 1958 to\n",
      "Line 24: 2 1 . Shouldn't understand the public the first\n",
      "Line 25: \" If . Alcohol Places , if. Rupert. Crubelelegraphy help ...\n",
      "Line 26: # it should it . When I Service had found the\n",
      "Line 27: # that it still be found into the titles\n",
      "Line 28: a b c. Duncan of them , because it was not available in the\n",
      "Line 29: 1953 # for Ealing the small middle of patronage , the second\n",
      "Line 30: 1962 ( Stevens Avenue . We had begun off the gold zoological :\n",
      "Line 31: 0 1/ 2, Season . Which Scene had able to be kept into nuclear\n",
      "Line 32: # not # it into a letter of a new resource . It is a predicative dedicated block that\n",
      "Line 33: # of the neighbouring of poor causing the right of # for #\n",
      "Line 34: \" W. W. W. W. - W. - W. - W. W.\n",
      "Line 35: 0 0\n",
      "Line 36: 0 0\n",
      "Line 37: 0 0\n",
      "Line 38: 0\n",
      "\n",
      "\n",
      "=== End of 11 ===\n",
      "\n"
     ]
    }
   ],
   "source": [
    "with open(\"ocr_output_ref/Beatrice_Moxon_diary_1885_0010.txt\", \"r\", encoding=\"utf-8\") as f_ref: ocr_text_ref = f_ref.read()\n",
    "print(ocr_text_ref)\n"
   ]
  },
  {
   "cell_type": "code",
   "execution_count": null,
   "id": "c2429672",
   "metadata": {},
   "outputs": [
    {
     "name": "stdout",
     "output_type": "stream",
     "text": [
      "Here's the OCR transcription of the image:\n",
      "\n",
      "**Friday. 23.** Lessons The Same. The Dales got word\n",
      "from home to say they were to return about the\n",
      "10th of March. Awfully Sorry. — Did not go out.\n",
      "**Saturday. 24.** Went to Gymnastics enjoyed it very\n",
      "much. Boy. Went back to School Yesterday.\n",
      "**Sunday. 25.** Went to church. In the afternoon Millie\n",
      "Marie asked us to go to the Wood but we did not\n",
      "want to. So asked her to excuse us: an Awful\n",
      "row Ensued, & we didn't go. Awfully homesick\n",
      "& miserable, so tired of being here.\n",
      "**Monday. 26.** Lessons as Usual! In the evening got a\n",
      "letter from home. They seem very dull! Without\n",
      "the dear old boy.-- Papa has mentioned Easter.\n",
      "hope they will come.-- Wish the time would pass\n",
      "Quicker.\n",
      "**Tuesday. 27.** Lessons as usual. Went to Gymnastics\n",
      "My fingers one on each hand gave a good deal\n",
      "but afraid they are going to gather.--\n",
      "**Wednesday. 28.** Everything The Same. All the\n",
      "Snow Gone because of the rain. The Girls\n",
      "found Mille P's broach. Talking already about\n",
      "home. Only six weeks before Bertie goes.--\n",
      "My fingers more painful: how miserably to\n",
      "have all this bother & pain away from home.--\n"
     ]
    }
   ],
   "source": [
    "response = client.models.generate_content(\n",
    "    model=\"gemini-2.5-flash\",\n",
    "    contents=[image, \"perform OCR on the image\"],\n",
    "    config=types.GenerateContentConfig(\n",
    "        # thinking_config=types.ThinkingConfig(thinking_budget=0) # Disables thinking\n",
    "    ),\n",
    "\n",
    ")\n",
    "print(response.text)"
   ]
  },
  {
   "cell_type": "code",
   "execution_count": 10,
   "id": "e3296968",
   "metadata": {},
   "outputs": [
    {
     "name": "stdout",
     "output_type": "stream",
     "text": [
      "Here is the OCR transcription of the provided image:\n",
      "\n",
      "Who wrote for Papa's Address.\n",
      "Friday 6th Nothing new? Less casual.\n",
      "Dreadfully tired, Sat up late Reading the book\n",
      "Hear Gordon is taken Prisoner & not or little\n",
      "Chance of his life poor fellow. -\n",
      "Saturday 7th At Gym learned a new dance\n",
      "Rather pretty. Cornwall daily talk.\n",
      "Went to Set Preasured for my costume.\n",
      "Hope it will be pretty. The girls went to\n",
      "confess. It suffer all laughing & making fun\n",
      "of what they had said, such irreverance\n",
      "While M. was contente because I got a bleu\n",
      "de Droit & kept my promise.\n",
      "Sunday 8. Went to the French Protestant\n",
      "Church in the morning & learned the \n",
      "L's Prayer in French During the Sermon because\n",
      "I couldn't understand. He pulled the most\n",
      "awful faces; & I could scarcely help\n",
      "laughing. After Service we went for a\n",
      "walk to the Parc Leopold. What a pity\n",
      "for such a nice piece of ground to be wasted\n",
      "There & there we saw signs of the old Zoological\n",
      "Garden which were not able to be kept up on acco.\n",
      "of the difficulty of procuring the necessary food for the anin.\n"
     ]
    }
   ],
   "source": [
    "response = client.models.generate_content(\n",
    "    model=\"gemini-2.5-flash\",\n",
    "    contents=[image, \"perform OCR on the image\"],\n",
    "    config=types.GenerateContentConfig(\n",
    "        # thinking_config=types.ThinkingConfig(thinking_budget=0) # Disables thinking\n",
    "    ),\n",
    "\n",
    ")\n",
    "print(response.text)"
   ]
  },
  {
   "cell_type": "code",
   "execution_count": 11,
   "id": "2b76d9da",
   "metadata": {},
   "outputs": [
    {
     "name": "stdout",
     "output_type": "stream",
     "text": [
      "----------------------------------------\n",
      "Who wrote for Papa's address. --\n",
      "<u>Friday 6th</u> Nothing new? Less Assured\n",
      "dreadfully tired, Sat up late reading The book.\n",
      "Hear Gordon is taken prisoner - & not or little\n",
      "chance of his life poor fellow. --\n",
      "<u>Saturday 7.</u> At Gymn learned a new dance\n",
      "Rather pretty. Cornwall daily Talk.\n",
      "Went to See Measured for my Costume.\n",
      "Hope it will be pretty. The Girls went to\n",
      "confess. It suffered all laughing & making fun\n",
      "of what they had said, Such irreverence\n",
      "Wattle M. <u>Très contente</u> because I got a blue\n",
      "de Droit & kept my promise.\n",
      "<u>Sunday 8.</u> Went to the french Protestant\n",
      "Church in the morning & learned the A\n",
      "Ls Prayer in French During the Sermon because\n",
      "I couldn't understand. He pulled the most\n",
      "awful faces; & Ayre & I could scarcely help\n",
      "laughing. After Service we went for a\n",
      "walk to the Pare Leopold. What a pity\n",
      "for Such a nice piece of Ground to be Roast\n",
      "(here & there we saw signs of the old Zoological\n",
      "Garden which were not able to be kept up on acco.\n",
      "of the difficulty of procuring the necessary food for the anin\n",
      "----------------------------------------\n"
     ]
    }
   ],
   "source": [
    "response = client.models.generate_content(\n",
    "    model=\"gemini-2.5-flash\",\n",
    "    contents=[image, prompt,ocr_text_ref],\n",
    "    config=types.GenerateContentConfig(\n",
    "        thinking_config=types.ThinkingConfig(thinking_budget=0) # Disables thinking\n",
    "    ),\n",
    "\n",
    ")\n",
    "print(response.text)"
   ]
  },
  {
   "cell_type": "code",
   "execution_count": 17,
   "metadata": {},
   "outputs": [
    {
     "name": "stdout",
     "output_type": "stream",
     "text": [
      "----------------------------------------\n",
      "Who wrote for Papa's address. -\n",
      "Friday 6th Nothing new? Lessons As usual\n",
      "Dreadfully tired, sat up late reading the book\n",
      "Hear Gordon is taken prisoner - & not or little\n",
      "chance of his life poor fellow. -\n",
      "Saturday 7th At Gym Learned a new dance\n",
      "Rather pretty. Cornwall daily talk.\n",
      "Went to See Measured for my costume.\n",
      "Hope it will be pretty. The Girls went to\n",
      "confess. All suffer all laughing & making fun\n",
      "of what they had said, Such irreverance\n",
      "While M. très contente because I got a blow\n",
      "de droit & kept my promise.\n",
      "Sunday 8th Went to the french Protestant\n",
      "Church in the morning & learned the\n",
      "Ls prayer in french During the Sermon because\n",
      "I couldn't understand. He pulled the most\n",
      "awful faces; & Ayre & I could scarcely help\n",
      "laughing. After Service we went for a\n",
      "Walk to The Parc Leopold. What a pity\n",
      "for such a nice piece of ground to be wasted\n",
      "(Here & there we Saw Signs of the old Zoological\n",
      "Garden Which were not able to be kept up on acco.\n",
      "of the difficulty of procuring the necessary food for the anin.\n",
      "----------------------------------------\n"
     ]
    }
   ],
   "source": [
    "response = client.models.generate_content(\n",
    "    model=\"gemini-2.5-flash\",\n",
    "    contents=[image, prompt,ocr_text_ref],\n",
    "    config=types.GenerateContentConfig(\n",
    "        thinking_config=types.ThinkingConfig(thinking_budget=0) # Disables thinking\n",
    "    ),\n",
    "\n",
    ")\n",
    "print(response.text)"
   ]
  },
  {
   "cell_type": "code",
   "execution_count": 12,
   "id": "0a5bd591",
   "metadata": {},
   "outputs": [],
   "source": [
    "def batch_ocr(data_path):\n",
    "    for filename in sorted(os.listdir(data_path)):\n",
    "        print(filename)\n",
    "        image_path = os.path.join(\"Data/JPG\", filename)\n",
    "        image = Image.open(image_path).rotate(180) # rotate 180 degrees\n",
    "        base_name, _ = os.path.splitext(filename)\n",
    "        with open(f\"ocr_output_ref/{base_name}.txt\", \"r\", encoding=\"utf-8\") as f:\n",
    "            reference_text = f.read()\n",
    "        response = client.models.generate_content(\n",
    "            model=\"gemini-2.5-flash\",\n",
    "            contents=[image, prompt,reference_text],\n",
    "            config=types.GenerateContentConfig(\n",
    "                thinking_config=types.ThinkingConfig(thinking_budget=0) # Disables thinking\n",
    "            ),\n",
    "\n",
    "        )\n",
    "        results_dir = os.path.join(\"Results\", \"Gemini\")\n",
    "        os.makedirs(results_dir, exist_ok=True)\n",
    "        with open(os.path.join(results_dir, f\"{base_name}.txt\"), \"w\", encoding=\"utf-8\") as out_f:\n",
    "            out_f.write(response.text)"
   ]
  },
  {
   "cell_type": "code",
   "execution_count": 13,
   "id": "28e37aef",
   "metadata": {},
   "outputs": [
    {
     "name": "stdout",
     "output_type": "stream",
     "text": [
      "Beatrice_Moxon_diary_1885_0000.jpg\n",
      "Beatrice_Moxon_diary_1885_0001.jpg\n",
      "Beatrice_Moxon_diary_1885_0002.jpg\n",
      "Beatrice_Moxon_diary_1885_0003.jpg\n",
      "Beatrice_Moxon_diary_1885_0004.jpg\n",
      "Beatrice_Moxon_diary_1885_0005.jpg\n",
      "Beatrice_Moxon_diary_1885_0006.jpg\n",
      "Beatrice_Moxon_diary_1885_0007.jpg\n",
      "Beatrice_Moxon_diary_1885_0008.jpg\n",
      "Beatrice_Moxon_diary_1885_0009.jpg\n",
      "Beatrice_Moxon_diary_1885_0010.jpg\n",
      "Beatrice_Moxon_diary_1885_0011.jpg\n",
      "Beatrice_Moxon_diary_1885_0012.jpg\n",
      "Beatrice_Moxon_diary_1885_0013.jpg\n",
      "Beatrice_Moxon_diary_1885_0014.jpg\n",
      "Beatrice_Moxon_diary_1885_0015.jpg\n",
      "Beatrice_Moxon_diary_1885_0016.jpg\n",
      "Beatrice_Moxon_diary_1885_0017.jpg\n",
      "Beatrice_Moxon_diary_1885_0018.jpg\n",
      "Beatrice_Moxon_diary_1885_0019.jpg\n",
      "Beatrice_Moxon_diary_1885_0020.jpg\n",
      "Beatrice_Moxon_diary_1885_0021.jpg\n",
      "Beatrice_Moxon_diary_1885_0022.jpg\n",
      "Beatrice_Moxon_diary_1885_0023.jpg\n",
      "Beatrice_Moxon_diary_1885_0024.jpg\n",
      "Beatrice_Moxon_diary_1885_0025.jpg\n",
      "Beatrice_Moxon_diary_1885_0026.jpg\n"
     ]
    },
    {
     "ename": "ClientError",
     "evalue": "429 RESOURCE_EXHAUSTED. {'error': {'code': 429, 'message': 'You exceeded your current quota, please check your plan and billing details. For more information on this error, head to: https://ai.google.dev/gemini-api/docs/rate-limits.', 'status': 'RESOURCE_EXHAUSTED', 'details': [{'@type': 'type.googleapis.com/google.rpc.QuotaFailure', 'violations': [{'quotaMetric': 'generativelanguage.googleapis.com/generate_content_free_tier_requests', 'quotaId': 'GenerateRequestsPerMinutePerProjectPerModel-FreeTier', 'quotaDimensions': {'location': 'global', 'model': 'gemini-2.5-flash'}, 'quotaValue': '10'}]}, {'@type': 'type.googleapis.com/google.rpc.Help', 'links': [{'description': 'Learn more about Gemini API quotas', 'url': 'https://ai.google.dev/gemini-api/docs/rate-limits'}]}, {'@type': 'type.googleapis.com/google.rpc.RetryInfo', 'retryDelay': '31s'}]}}",
     "output_type": "error",
     "traceback": [
      "\u001b[0;31m---------------------------------------------------------------------------\u001b[0m",
      "\u001b[0;31mClientError\u001b[0m                               Traceback (most recent call last)",
      "Cell \u001b[0;32mIn[13], line 1\u001b[0m\n\u001b[0;32m----> 1\u001b[0m \u001b[43mbatch_ocr\u001b[49m\u001b[43m(\u001b[49m\u001b[43mos\u001b[49m\u001b[38;5;241;43m.\u001b[39;49m\u001b[43mpath\u001b[49m\u001b[38;5;241;43m.\u001b[39;49m\u001b[43mjoin\u001b[49m\u001b[43m(\u001b[49m\u001b[38;5;124;43m\"\u001b[39;49m\u001b[38;5;124;43mData\u001b[39;49m\u001b[38;5;124;43m\"\u001b[39;49m\u001b[43m,\u001b[49m\u001b[43m \u001b[49m\u001b[38;5;124;43m\"\u001b[39;49m\u001b[38;5;124;43mJPG\u001b[39;49m\u001b[38;5;124;43m\"\u001b[39;49m\u001b[43m)\u001b[49m\u001b[43m)\u001b[49m\n",
      "Cell \u001b[0;32mIn[12], line 9\u001b[0m, in \u001b[0;36mbatch_ocr\u001b[0;34m(data_path)\u001b[0m\n\u001b[1;32m      7\u001b[0m \u001b[38;5;28;01mwith\u001b[39;00m \u001b[38;5;28mopen\u001b[39m(\u001b[38;5;124mf\u001b[39m\u001b[38;5;124m\"\u001b[39m\u001b[38;5;124mocr_output_ref/\u001b[39m\u001b[38;5;132;01m{\u001b[39;00mbase_name\u001b[38;5;132;01m}\u001b[39;00m\u001b[38;5;124m.txt\u001b[39m\u001b[38;5;124m\"\u001b[39m, \u001b[38;5;124m\"\u001b[39m\u001b[38;5;124mr\u001b[39m\u001b[38;5;124m\"\u001b[39m, encoding\u001b[38;5;241m=\u001b[39m\u001b[38;5;124m\"\u001b[39m\u001b[38;5;124mutf-8\u001b[39m\u001b[38;5;124m\"\u001b[39m) \u001b[38;5;28;01mas\u001b[39;00m f:\n\u001b[1;32m      8\u001b[0m     reference_text \u001b[38;5;241m=\u001b[39m f\u001b[38;5;241m.\u001b[39mread()\n\u001b[0;32m----> 9\u001b[0m response \u001b[38;5;241m=\u001b[39m \u001b[43mclient\u001b[49m\u001b[38;5;241;43m.\u001b[39;49m\u001b[43mmodels\u001b[49m\u001b[38;5;241;43m.\u001b[39;49m\u001b[43mgenerate_content\u001b[49m\u001b[43m(\u001b[49m\n\u001b[1;32m     10\u001b[0m \u001b[43m    \u001b[49m\u001b[43mmodel\u001b[49m\u001b[38;5;241;43m=\u001b[39;49m\u001b[38;5;124;43m\"\u001b[39;49m\u001b[38;5;124;43mgemini-2.5-flash\u001b[39;49m\u001b[38;5;124;43m\"\u001b[39;49m\u001b[43m,\u001b[49m\n\u001b[1;32m     11\u001b[0m \u001b[43m    \u001b[49m\u001b[43mcontents\u001b[49m\u001b[38;5;241;43m=\u001b[39;49m\u001b[43m[\u001b[49m\u001b[43mimage\u001b[49m\u001b[43m,\u001b[49m\u001b[43m \u001b[49m\u001b[43mprompt\u001b[49m\u001b[43m,\u001b[49m\u001b[43mreference_text\u001b[49m\u001b[43m]\u001b[49m\u001b[43m,\u001b[49m\n\u001b[1;32m     12\u001b[0m \u001b[43m    \u001b[49m\u001b[43mconfig\u001b[49m\u001b[38;5;241;43m=\u001b[39;49m\u001b[43mtypes\u001b[49m\u001b[38;5;241;43m.\u001b[39;49m\u001b[43mGenerateContentConfig\u001b[49m\u001b[43m(\u001b[49m\n\u001b[1;32m     13\u001b[0m \u001b[43m        \u001b[49m\u001b[43mthinking_config\u001b[49m\u001b[38;5;241;43m=\u001b[39;49m\u001b[43mtypes\u001b[49m\u001b[38;5;241;43m.\u001b[39;49m\u001b[43mThinkingConfig\u001b[49m\u001b[43m(\u001b[49m\u001b[43mthinking_budget\u001b[49m\u001b[38;5;241;43m=\u001b[39;49m\u001b[38;5;241;43m0\u001b[39;49m\u001b[43m)\u001b[49m\u001b[43m \u001b[49m\u001b[38;5;66;43;03m# Disables thinking\u001b[39;49;00m\n\u001b[1;32m     14\u001b[0m \u001b[43m    \u001b[49m\u001b[43m)\u001b[49m\u001b[43m,\u001b[49m\n\u001b[1;32m     15\u001b[0m \n\u001b[1;32m     16\u001b[0m \u001b[43m\u001b[49m\u001b[43m)\u001b[49m\n\u001b[1;32m     17\u001b[0m results_dir \u001b[38;5;241m=\u001b[39m os\u001b[38;5;241m.\u001b[39mpath\u001b[38;5;241m.\u001b[39mjoin(\u001b[38;5;124m\"\u001b[39m\u001b[38;5;124mResults\u001b[39m\u001b[38;5;124m\"\u001b[39m, \u001b[38;5;124m\"\u001b[39m\u001b[38;5;124mGemini\u001b[39m\u001b[38;5;124m\"\u001b[39m)\n\u001b[1;32m     18\u001b[0m os\u001b[38;5;241m.\u001b[39mmakedirs(results_dir, exist_ok\u001b[38;5;241m=\u001b[39m\u001b[38;5;28;01mTrue\u001b[39;00m)\n",
      "File \u001b[0;32m~/.conda/envs/knoor_torch-v2.2.2/lib/python3.10/site-packages/google/genai/models.py:6112\u001b[0m, in \u001b[0;36mModels.generate_content\u001b[0;34m(self, model, contents, config)\u001b[0m\n\u001b[1;32m   6110\u001b[0m \u001b[38;5;28;01mwhile\u001b[39;00m remaining_remote_calls_afc \u001b[38;5;241m>\u001b[39m \u001b[38;5;241m0\u001b[39m:\n\u001b[1;32m   6111\u001b[0m   i \u001b[38;5;241m+\u001b[39m\u001b[38;5;241m=\u001b[39m \u001b[38;5;241m1\u001b[39m\n\u001b[0;32m-> 6112\u001b[0m   response \u001b[38;5;241m=\u001b[39m \u001b[38;5;28;43mself\u001b[39;49m\u001b[38;5;241;43m.\u001b[39;49m\u001b[43m_generate_content\u001b[49m\u001b[43m(\u001b[49m\n\u001b[1;32m   6113\u001b[0m \u001b[43m      \u001b[49m\u001b[43mmodel\u001b[49m\u001b[38;5;241;43m=\u001b[39;49m\u001b[43mmodel\u001b[49m\u001b[43m,\u001b[49m\u001b[43m \u001b[49m\u001b[43mcontents\u001b[49m\u001b[38;5;241;43m=\u001b[39;49m\u001b[43mcontents\u001b[49m\u001b[43m,\u001b[49m\u001b[43m \u001b[49m\u001b[43mconfig\u001b[49m\u001b[38;5;241;43m=\u001b[39;49m\u001b[43mparsed_config\u001b[49m\n\u001b[1;32m   6114\u001b[0m \u001b[43m  \u001b[49m\u001b[43m)\u001b[49m\n\u001b[1;32m   6115\u001b[0m   logger\u001b[38;5;241m.\u001b[39minfo(\u001b[38;5;124mf\u001b[39m\u001b[38;5;124m'\u001b[39m\u001b[38;5;124mAFC remote call \u001b[39m\u001b[38;5;132;01m{\u001b[39;00mi\u001b[38;5;132;01m}\u001b[39;00m\u001b[38;5;124m is done.\u001b[39m\u001b[38;5;124m'\u001b[39m)\n\u001b[1;32m   6116\u001b[0m   remaining_remote_calls_afc \u001b[38;5;241m-\u001b[39m\u001b[38;5;241m=\u001b[39m \u001b[38;5;241m1\u001b[39m\n",
      "File \u001b[0;32m~/.conda/envs/knoor_torch-v2.2.2/lib/python3.10/site-packages/google/genai/models.py:4933\u001b[0m, in \u001b[0;36mModels._generate_content\u001b[0;34m(self, model, contents, config)\u001b[0m\n\u001b[1;32m   4930\u001b[0m request_dict \u001b[38;5;241m=\u001b[39m _common\u001b[38;5;241m.\u001b[39mconvert_to_dict(request_dict)\n\u001b[1;32m   4931\u001b[0m request_dict \u001b[38;5;241m=\u001b[39m _common\u001b[38;5;241m.\u001b[39mencode_unserializable_types(request_dict)\n\u001b[0;32m-> 4933\u001b[0m response \u001b[38;5;241m=\u001b[39m \u001b[38;5;28;43mself\u001b[39;49m\u001b[38;5;241;43m.\u001b[39;49m\u001b[43m_api_client\u001b[49m\u001b[38;5;241;43m.\u001b[39;49m\u001b[43mrequest\u001b[49m\u001b[43m(\u001b[49m\n\u001b[1;32m   4934\u001b[0m \u001b[43m    \u001b[49m\u001b[38;5;124;43m'\u001b[39;49m\u001b[38;5;124;43mpost\u001b[39;49m\u001b[38;5;124;43m'\u001b[39;49m\u001b[43m,\u001b[49m\u001b[43m \u001b[49m\u001b[43mpath\u001b[49m\u001b[43m,\u001b[49m\u001b[43m \u001b[49m\u001b[43mrequest_dict\u001b[49m\u001b[43m,\u001b[49m\u001b[43m \u001b[49m\u001b[43mhttp_options\u001b[49m\n\u001b[1;32m   4935\u001b[0m \u001b[43m\u001b[49m\u001b[43m)\u001b[49m\n\u001b[1;32m   4937\u001b[0m response_dict \u001b[38;5;241m=\u001b[39m \u001b[38;5;124m'\u001b[39m\u001b[38;5;124m'\u001b[39m \u001b[38;5;28;01mif\u001b[39;00m \u001b[38;5;129;01mnot\u001b[39;00m response\u001b[38;5;241m.\u001b[39mbody \u001b[38;5;28;01melse\u001b[39;00m json\u001b[38;5;241m.\u001b[39mloads(response\u001b[38;5;241m.\u001b[39mbody)\n\u001b[1;32m   4939\u001b[0m \u001b[38;5;28;01mif\u001b[39;00m \u001b[38;5;28mself\u001b[39m\u001b[38;5;241m.\u001b[39m_api_client\u001b[38;5;241m.\u001b[39mvertexai:\n",
      "File \u001b[0;32m~/.conda/envs/knoor_torch-v2.2.2/lib/python3.10/site-packages/google/genai/_api_client.py:1262\u001b[0m, in \u001b[0;36mBaseApiClient.request\u001b[0;34m(self, http_method, path, request_dict, http_options)\u001b[0m\n\u001b[1;32m   1252\u001b[0m \u001b[38;5;28;01mdef\u001b[39;00m \u001b[38;5;21mrequest\u001b[39m(\n\u001b[1;32m   1253\u001b[0m     \u001b[38;5;28mself\u001b[39m,\n\u001b[1;32m   1254\u001b[0m     http_method: \u001b[38;5;28mstr\u001b[39m,\n\u001b[0;32m   (...)\u001b[0m\n\u001b[1;32m   1257\u001b[0m     http_options: Optional[HttpOptionsOrDict] \u001b[38;5;241m=\u001b[39m \u001b[38;5;28;01mNone\u001b[39;00m,\n\u001b[1;32m   1258\u001b[0m ) \u001b[38;5;241m-\u001b[39m\u001b[38;5;241m>\u001b[39m SdkHttpResponse:\n\u001b[1;32m   1259\u001b[0m   http_request \u001b[38;5;241m=\u001b[39m \u001b[38;5;28mself\u001b[39m\u001b[38;5;241m.\u001b[39m_build_request(\n\u001b[1;32m   1260\u001b[0m       http_method, path, request_dict, http_options\n\u001b[1;32m   1261\u001b[0m   )\n\u001b[0;32m-> 1262\u001b[0m   response \u001b[38;5;241m=\u001b[39m \u001b[38;5;28;43mself\u001b[39;49m\u001b[38;5;241;43m.\u001b[39;49m\u001b[43m_request\u001b[49m\u001b[43m(\u001b[49m\u001b[43mhttp_request\u001b[49m\u001b[43m,\u001b[49m\u001b[43m \u001b[49m\u001b[43mhttp_options\u001b[49m\u001b[43m,\u001b[49m\u001b[43m \u001b[49m\u001b[43mstream\u001b[49m\u001b[38;5;241;43m=\u001b[39;49m\u001b[38;5;28;43;01mFalse\u001b[39;49;00m\u001b[43m)\u001b[49m\n\u001b[1;32m   1263\u001b[0m   response_body \u001b[38;5;241m=\u001b[39m (\n\u001b[1;32m   1264\u001b[0m       response\u001b[38;5;241m.\u001b[39mresponse_stream[\u001b[38;5;241m0\u001b[39m] \u001b[38;5;28;01mif\u001b[39;00m response\u001b[38;5;241m.\u001b[39mresponse_stream \u001b[38;5;28;01melse\u001b[39;00m \u001b[38;5;124m'\u001b[39m\u001b[38;5;124m'\u001b[39m\n\u001b[1;32m   1265\u001b[0m   )\n\u001b[1;32m   1266\u001b[0m   \u001b[38;5;28;01mreturn\u001b[39;00m SdkHttpResponse(headers\u001b[38;5;241m=\u001b[39mresponse\u001b[38;5;241m.\u001b[39mheaders, body\u001b[38;5;241m=\u001b[39mresponse_body)\n",
      "File \u001b[0;32m~/.conda/envs/knoor_torch-v2.2.2/lib/python3.10/site-packages/google/genai/_api_client.py:1082\u001b[0m, in \u001b[0;36mBaseApiClient._request\u001b[0;34m(self, http_request, http_options, stream)\u001b[0m\n\u001b[1;32m   1079\u001b[0m     retry \u001b[38;5;241m=\u001b[39m tenacity\u001b[38;5;241m.\u001b[39mRetrying(\u001b[38;5;241m*\u001b[39m\u001b[38;5;241m*\u001b[39mretry_kwargs)\n\u001b[1;32m   1080\u001b[0m     \u001b[38;5;28;01mreturn\u001b[39;00m retry(\u001b[38;5;28mself\u001b[39m\u001b[38;5;241m.\u001b[39m_request_once, http_request, stream)  \u001b[38;5;66;03m# type: ignore[no-any-return]\u001b[39;00m\n\u001b[0;32m-> 1082\u001b[0m \u001b[38;5;28;01mreturn\u001b[39;00m \u001b[38;5;28;43mself\u001b[39;49m\u001b[38;5;241;43m.\u001b[39;49m\u001b[43m_retry\u001b[49m\u001b[43m(\u001b[49m\u001b[38;5;28;43mself\u001b[39;49m\u001b[38;5;241;43m.\u001b[39;49m\u001b[43m_request_once\u001b[49m\u001b[43m,\u001b[49m\u001b[43m \u001b[49m\u001b[43mhttp_request\u001b[49m\u001b[43m,\u001b[49m\u001b[43m \u001b[49m\u001b[43mstream\u001b[49m\u001b[43m)\u001b[49m\n",
      "File \u001b[0;32m~/.conda/envs/knoor_torch-v2.2.2/lib/python3.10/site-packages/tenacity/__init__.py:477\u001b[0m, in \u001b[0;36mRetrying.__call__\u001b[0;34m(self, fn, *args, **kwargs)\u001b[0m\n\u001b[1;32m    475\u001b[0m retry_state \u001b[38;5;241m=\u001b[39m RetryCallState(retry_object\u001b[38;5;241m=\u001b[39m\u001b[38;5;28mself\u001b[39m, fn\u001b[38;5;241m=\u001b[39mfn, args\u001b[38;5;241m=\u001b[39margs, kwargs\u001b[38;5;241m=\u001b[39mkwargs)\n\u001b[1;32m    476\u001b[0m \u001b[38;5;28;01mwhile\u001b[39;00m \u001b[38;5;28;01mTrue\u001b[39;00m:\n\u001b[0;32m--> 477\u001b[0m     do \u001b[38;5;241m=\u001b[39m \u001b[38;5;28;43mself\u001b[39;49m\u001b[38;5;241;43m.\u001b[39;49m\u001b[43miter\u001b[49m\u001b[43m(\u001b[49m\u001b[43mretry_state\u001b[49m\u001b[38;5;241;43m=\u001b[39;49m\u001b[43mretry_state\u001b[49m\u001b[43m)\u001b[49m\n\u001b[1;32m    478\u001b[0m     \u001b[38;5;28;01mif\u001b[39;00m \u001b[38;5;28misinstance\u001b[39m(do, DoAttempt):\n\u001b[1;32m    479\u001b[0m         \u001b[38;5;28;01mtry\u001b[39;00m:\n",
      "File \u001b[0;32m~/.conda/envs/knoor_torch-v2.2.2/lib/python3.10/site-packages/tenacity/__init__.py:378\u001b[0m, in \u001b[0;36mBaseRetrying.iter\u001b[0;34m(self, retry_state)\u001b[0m\n\u001b[1;32m    376\u001b[0m result \u001b[38;5;241m=\u001b[39m \u001b[38;5;28;01mNone\u001b[39;00m\n\u001b[1;32m    377\u001b[0m \u001b[38;5;28;01mfor\u001b[39;00m action \u001b[38;5;129;01min\u001b[39;00m \u001b[38;5;28mself\u001b[39m\u001b[38;5;241m.\u001b[39miter_state\u001b[38;5;241m.\u001b[39mactions:\n\u001b[0;32m--> 378\u001b[0m     result \u001b[38;5;241m=\u001b[39m \u001b[43maction\u001b[49m\u001b[43m(\u001b[49m\u001b[43mretry_state\u001b[49m\u001b[43m)\u001b[49m\n\u001b[1;32m    379\u001b[0m \u001b[38;5;28;01mreturn\u001b[39;00m result\n",
      "File \u001b[0;32m~/.conda/envs/knoor_torch-v2.2.2/lib/python3.10/site-packages/tenacity/__init__.py:420\u001b[0m, in \u001b[0;36mBaseRetrying._post_stop_check_actions.<locals>.exc_check\u001b[0;34m(rs)\u001b[0m\n\u001b[1;32m    418\u001b[0m retry_exc \u001b[38;5;241m=\u001b[39m \u001b[38;5;28mself\u001b[39m\u001b[38;5;241m.\u001b[39mretry_error_cls(fut)\n\u001b[1;32m    419\u001b[0m \u001b[38;5;28;01mif\u001b[39;00m \u001b[38;5;28mself\u001b[39m\u001b[38;5;241m.\u001b[39mreraise:\n\u001b[0;32m--> 420\u001b[0m     \u001b[38;5;28;01mraise\u001b[39;00m \u001b[43mretry_exc\u001b[49m\u001b[38;5;241;43m.\u001b[39;49m\u001b[43mreraise\u001b[49m\u001b[43m(\u001b[49m\u001b[43m)\u001b[49m\n\u001b[1;32m    421\u001b[0m \u001b[38;5;28;01mraise\u001b[39;00m retry_exc \u001b[38;5;28;01mfrom\u001b[39;00m \u001b[38;5;21;01mfut\u001b[39;00m\u001b[38;5;21;01m.\u001b[39;00m\u001b[38;5;21;01mexception\u001b[39;00m()\n",
      "File \u001b[0;32m~/.conda/envs/knoor_torch-v2.2.2/lib/python3.10/site-packages/tenacity/__init__.py:187\u001b[0m, in \u001b[0;36mRetryError.reraise\u001b[0;34m(self)\u001b[0m\n\u001b[1;32m    185\u001b[0m \u001b[38;5;28;01mdef\u001b[39;00m \u001b[38;5;21mreraise\u001b[39m(\u001b[38;5;28mself\u001b[39m) \u001b[38;5;241m-\u001b[39m\u001b[38;5;241m>\u001b[39m t\u001b[38;5;241m.\u001b[39mNoReturn:\n\u001b[1;32m    186\u001b[0m     \u001b[38;5;28;01mif\u001b[39;00m \u001b[38;5;28mself\u001b[39m\u001b[38;5;241m.\u001b[39mlast_attempt\u001b[38;5;241m.\u001b[39mfailed:\n\u001b[0;32m--> 187\u001b[0m         \u001b[38;5;28;01mraise\u001b[39;00m \u001b[38;5;28;43mself\u001b[39;49m\u001b[38;5;241;43m.\u001b[39;49m\u001b[43mlast_attempt\u001b[49m\u001b[38;5;241;43m.\u001b[39;49m\u001b[43mresult\u001b[49m\u001b[43m(\u001b[49m\u001b[43m)\u001b[49m\n\u001b[1;32m    188\u001b[0m     \u001b[38;5;28;01mraise\u001b[39;00m \u001b[38;5;28mself\u001b[39m\n",
      "File \u001b[0;32m~/.conda/envs/knoor_torch-v2.2.2/lib/python3.10/concurrent/futures/_base.py:451\u001b[0m, in \u001b[0;36mFuture.result\u001b[0;34m(self, timeout)\u001b[0m\n\u001b[1;32m    449\u001b[0m     \u001b[38;5;28;01mraise\u001b[39;00m CancelledError()\n\u001b[1;32m    450\u001b[0m \u001b[38;5;28;01melif\u001b[39;00m \u001b[38;5;28mself\u001b[39m\u001b[38;5;241m.\u001b[39m_state \u001b[38;5;241m==\u001b[39m FINISHED:\n\u001b[0;32m--> 451\u001b[0m     \u001b[38;5;28;01mreturn\u001b[39;00m \u001b[38;5;28;43mself\u001b[39;49m\u001b[38;5;241;43m.\u001b[39;49m\u001b[43m__get_result\u001b[49m\u001b[43m(\u001b[49m\u001b[43m)\u001b[49m\n\u001b[1;32m    453\u001b[0m \u001b[38;5;28mself\u001b[39m\u001b[38;5;241m.\u001b[39m_condition\u001b[38;5;241m.\u001b[39mwait(timeout)\n\u001b[1;32m    455\u001b[0m \u001b[38;5;28;01mif\u001b[39;00m \u001b[38;5;28mself\u001b[39m\u001b[38;5;241m.\u001b[39m_state \u001b[38;5;129;01min\u001b[39;00m [CANCELLED, CANCELLED_AND_NOTIFIED]:\n",
      "File \u001b[0;32m~/.conda/envs/knoor_torch-v2.2.2/lib/python3.10/concurrent/futures/_base.py:403\u001b[0m, in \u001b[0;36mFuture.__get_result\u001b[0;34m(self)\u001b[0m\n\u001b[1;32m    401\u001b[0m \u001b[38;5;28;01mif\u001b[39;00m \u001b[38;5;28mself\u001b[39m\u001b[38;5;241m.\u001b[39m_exception:\n\u001b[1;32m    402\u001b[0m     \u001b[38;5;28;01mtry\u001b[39;00m:\n\u001b[0;32m--> 403\u001b[0m         \u001b[38;5;28;01mraise\u001b[39;00m \u001b[38;5;28mself\u001b[39m\u001b[38;5;241m.\u001b[39m_exception\n\u001b[1;32m    404\u001b[0m     \u001b[38;5;28;01mfinally\u001b[39;00m:\n\u001b[1;32m    405\u001b[0m         \u001b[38;5;66;03m# Break a reference cycle with the exception in self._exception\u001b[39;00m\n\u001b[1;32m    406\u001b[0m         \u001b[38;5;28mself\u001b[39m \u001b[38;5;241m=\u001b[39m \u001b[38;5;28;01mNone\u001b[39;00m\n",
      "File \u001b[0;32m~/.conda/envs/knoor_torch-v2.2.2/lib/python3.10/site-packages/tenacity/__init__.py:480\u001b[0m, in \u001b[0;36mRetrying.__call__\u001b[0;34m(self, fn, *args, **kwargs)\u001b[0m\n\u001b[1;32m    478\u001b[0m \u001b[38;5;28;01mif\u001b[39;00m \u001b[38;5;28misinstance\u001b[39m(do, DoAttempt):\n\u001b[1;32m    479\u001b[0m     \u001b[38;5;28;01mtry\u001b[39;00m:\n\u001b[0;32m--> 480\u001b[0m         result \u001b[38;5;241m=\u001b[39m \u001b[43mfn\u001b[49m\u001b[43m(\u001b[49m\u001b[38;5;241;43m*\u001b[39;49m\u001b[43margs\u001b[49m\u001b[43m,\u001b[49m\u001b[43m \u001b[49m\u001b[38;5;241;43m*\u001b[39;49m\u001b[38;5;241;43m*\u001b[39;49m\u001b[43mkwargs\u001b[49m\u001b[43m)\u001b[49m\n\u001b[1;32m    481\u001b[0m     \u001b[38;5;28;01mexcept\u001b[39;00m \u001b[38;5;167;01mBaseException\u001b[39;00m:  \u001b[38;5;66;03m# noqa: B902\u001b[39;00m\n\u001b[1;32m    482\u001b[0m         retry_state\u001b[38;5;241m.\u001b[39mset_exception(sys\u001b[38;5;241m.\u001b[39mexc_info())  \u001b[38;5;66;03m# type: ignore[arg-type]\u001b[39;00m\n",
      "File \u001b[0;32m~/.conda/envs/knoor_torch-v2.2.2/lib/python3.10/site-packages/google/genai/_api_client.py:1059\u001b[0m, in \u001b[0;36mBaseApiClient._request_once\u001b[0;34m(self, http_request, stream)\u001b[0m\n\u001b[1;32m   1051\u001b[0m \u001b[38;5;28;01melse\u001b[39;00m:\n\u001b[1;32m   1052\u001b[0m   response \u001b[38;5;241m=\u001b[39m \u001b[38;5;28mself\u001b[39m\u001b[38;5;241m.\u001b[39m_httpx_client\u001b[38;5;241m.\u001b[39mrequest(\n\u001b[1;32m   1053\u001b[0m       method\u001b[38;5;241m=\u001b[39mhttp_request\u001b[38;5;241m.\u001b[39mmethod,\n\u001b[1;32m   1054\u001b[0m       url\u001b[38;5;241m=\u001b[39mhttp_request\u001b[38;5;241m.\u001b[39murl,\n\u001b[0;32m   (...)\u001b[0m\n\u001b[1;32m   1057\u001b[0m       timeout\u001b[38;5;241m=\u001b[39mhttp_request\u001b[38;5;241m.\u001b[39mtimeout,\n\u001b[1;32m   1058\u001b[0m   )\n\u001b[0;32m-> 1059\u001b[0m   \u001b[43merrors\u001b[49m\u001b[38;5;241;43m.\u001b[39;49m\u001b[43mAPIError\u001b[49m\u001b[38;5;241;43m.\u001b[39;49m\u001b[43mraise_for_response\u001b[49m\u001b[43m(\u001b[49m\u001b[43mresponse\u001b[49m\u001b[43m)\u001b[49m\n\u001b[1;32m   1060\u001b[0m   \u001b[38;5;28;01mreturn\u001b[39;00m HttpResponse(\n\u001b[1;32m   1061\u001b[0m       response\u001b[38;5;241m.\u001b[39mheaders, response \u001b[38;5;28;01mif\u001b[39;00m stream \u001b[38;5;28;01melse\u001b[39;00m [response\u001b[38;5;241m.\u001b[39mtext]\n\u001b[1;32m   1062\u001b[0m   )\n",
      "File \u001b[0;32m~/.conda/envs/knoor_torch-v2.2.2/lib/python3.10/site-packages/google/genai/errors.py:105\u001b[0m, in \u001b[0;36mAPIError.raise_for_response\u001b[0;34m(cls, response)\u001b[0m\n\u001b[1;32m    103\u001b[0m status_code \u001b[38;5;241m=\u001b[39m response\u001b[38;5;241m.\u001b[39mstatus_code\n\u001b[1;32m    104\u001b[0m \u001b[38;5;28;01mif\u001b[39;00m \u001b[38;5;241m400\u001b[39m \u001b[38;5;241m<\u001b[39m\u001b[38;5;241m=\u001b[39m status_code \u001b[38;5;241m<\u001b[39m \u001b[38;5;241m500\u001b[39m:\n\u001b[0;32m--> 105\u001b[0m   \u001b[38;5;28;01mraise\u001b[39;00m ClientError(status_code, response_json, response)\n\u001b[1;32m    106\u001b[0m \u001b[38;5;28;01melif\u001b[39;00m \u001b[38;5;241m500\u001b[39m \u001b[38;5;241m<\u001b[39m\u001b[38;5;241m=\u001b[39m status_code \u001b[38;5;241m<\u001b[39m \u001b[38;5;241m600\u001b[39m:\n\u001b[1;32m    107\u001b[0m   \u001b[38;5;28;01mraise\u001b[39;00m ServerError(status_code, response_json, response)\n",
      "\u001b[0;31mClientError\u001b[0m: 429 RESOURCE_EXHAUSTED. {'error': {'code': 429, 'message': 'You exceeded your current quota, please check your plan and billing details. For more information on this error, head to: https://ai.google.dev/gemini-api/docs/rate-limits.', 'status': 'RESOURCE_EXHAUSTED', 'details': [{'@type': 'type.googleapis.com/google.rpc.QuotaFailure', 'violations': [{'quotaMetric': 'generativelanguage.googleapis.com/generate_content_free_tier_requests', 'quotaId': 'GenerateRequestsPerMinutePerProjectPerModel-FreeTier', 'quotaDimensions': {'location': 'global', 'model': 'gemini-2.5-flash'}, 'quotaValue': '10'}]}, {'@type': 'type.googleapis.com/google.rpc.Help', 'links': [{'description': 'Learn more about Gemini API quotas', 'url': 'https://ai.google.dev/gemini-api/docs/rate-limits'}]}, {'@type': 'type.googleapis.com/google.rpc.RetryInfo', 'retryDelay': '31s'}]}}"
     ]
    }
   ],
   "source": [
    "batch_ocr(os.path.join(\"Data\", \"JPG\"))"
   ]
  },
  {
   "cell_type": "code",
   "execution_count": null,
   "metadata": {},
   "outputs": [],
   "source": []
  }
 ],
 "metadata": {
  "kernelspec": {
   "display_name": "Python 3 (ipykernel)",
   "language": "python",
   "name": "python3"
  },
  "language_info": {
   "codemirror_mode": {
    "name": "ipython",
    "version": 3
   },
   "file_extension": ".py",
   "mimetype": "text/x-python",
   "name": "python",
   "nbconvert_exporter": "python",
   "pygments_lexer": "ipython3",
   "version": "3.10.14"
  }
 },
 "nbformat": 4,
 "nbformat_minor": 5
}
